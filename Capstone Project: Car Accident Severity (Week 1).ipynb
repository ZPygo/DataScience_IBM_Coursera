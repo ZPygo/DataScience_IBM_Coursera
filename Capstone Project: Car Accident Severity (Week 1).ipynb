{
    "cells": [
        {
            "cell_type": "markdown",
            "metadata": {
                "collapsed": true
            },
            "source": "# Capstone Project: Car Accident Severity (Week 1)\n### IBM-Applied Data Science Capstone"
        },
        {
            "cell_type": "markdown",
            "metadata": {},
            "source": "## Introduction "
        },
        {
            "cell_type": "markdown",
            "metadata": {},
            "source": "All around the world, roads are shared by many motorized vehicles that have made transportation faster and more comfortable while supporting many countries' economic and social development. However, these vehicles cause a global problem. Car accidents are responsible for 1.35 million deaths on roadways every year. Almost 3,700 people are killed globally in road traffic crashes, where more than half of those killed are pedestrians, motorcyclists, and cyclists. Road traffic injuries are estimated to be the eighth leading cause of death globally for all age groups and the leading cause of death for children and young people 5\u201329 years of age [1]. Car accident severity depends on many factors and usually causes a high volume of traffic. \n\nThe main business problem is the severity of these accidents, which can sometimes be fatal and critical for pedestrians, bicycles, or vehicles. The project's objective here is to get people to safety, and the best way to solve this problem is to prevent those accidents as accurately as possible. Imagine being able to predict in advance the probability of an accident happening depending on the weather, the type of road, and many other features! This would help save many lives and help drivers get to their destination in the safest and fastest route possible. \n\nThe audience involved for this kind of project would be any Weather program, News channel, Radio station, government, or mobile application developers that wants to inform drivers of the possible areas of road crashes in a community area and propose alternative solutions to get to their destination.\n"
        },
        {
            "cell_type": "markdown",
            "metadata": {},
            "source": "# Data"
        },
        {
            "cell_type": "markdown",
            "metadata": {},
            "source": "For this project, the Dataset was shared on Coursera as a csv file available by Clicking here. \nThe data is composed of many features that accurately describe each car accident listed. They are classified in terms of severity, type of weather and road condition, location, address type, and many more. However, for this case study, the main objective is to predict an accident's probability and severity. Therefore, the Dataset needs deep understanding and analysis before choosing the right attributes to reach our goal. After selecting the appropriate factors, the new Dataset is balanced and preprocessed before applying a supervised machine learning model that will learn from the data to predict in the future the probability of a car accident based on the chosen attributes, in the best possible way!\n\nTo consider the problem we can list the data as below:\n\no\tAfter visualizing and comparing the effect and weight of many attributes on the severity of an accident, the main attributes that will be used are the following: \n\n\u2022\t\u2018WEATHER\u2019: A description of the weather conditions during the time of the collision. \n\n\u2022\t\u2018ROADCOND\u2019: The condition of the road during the collision. \n\n\u2022\t\u2018LIGHTCOND\u2019: The light conditions during the collision. \n\n\u2022\t\u2018LOCATION\u2019: The location of the accident.\n\n\u2022\t\u2018SEVERITYCODE\u2019: Representing the severity of each accident\n\no\tAfter getting the values of each severity type of accident, we can clearly see that the data is unbalanced as there is a lot more of accidents of type 1 than 2. To balance the data we may either down sample the number of type 1 or duplicate cases of type 2 to get equal values of each label. \n\no\tWe also have to check if there is any null values in any of our features column and replace them or either delete the corresponding row (in case of low number of Nan)\n\n\n\n"
        }
    ],
    "metadata": {
        "kernelspec": {
            "display_name": "Python 3.6",
            "language": "python",
            "name": "python3"
        },
        "language_info": {
            "codemirror_mode": {
                "name": "ipython",
                "version": 3
            },
            "file_extension": ".py",
            "mimetype": "text/x-python",
            "name": "python",
            "nbconvert_exporter": "python",
            "pygments_lexer": "ipython3",
            "version": "3.6.9"
        }
    },
    "nbformat": 4,
    "nbformat_minor": 1
}